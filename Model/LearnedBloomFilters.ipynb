{
  "nbformat": 4,
  "nbformat_minor": 0,
  "metadata": {
    "colab": {
      "name": "LearnedBloomFilters.ipynb",
      "provenance": [],
      "collapsed_sections": []
    },
    "kernelspec": {
      "name": "python3",
      "display_name": "Python 3"
    },
    "accelerator": "GPU",
    "widgets": {
      "application/vnd.jupyter.widget-state+json": {
        "7e3096a2230f41b38ad0c569f4823e14": {
          "model_module": "@jupyter-widgets/controls",
          "model_name": "HBoxModel",
          "state": {
            "_view_name": "HBoxView",
            "_dom_classes": [],
            "_model_name": "HBoxModel",
            "_view_module": "@jupyter-widgets/controls",
            "_model_module_version": "1.5.0",
            "_view_count": null,
            "_view_module_version": "1.5.0",
            "box_style": "",
            "layout": "IPY_MODEL_d9ba08544e744b22b72ca217102d505e",
            "_model_module": "@jupyter-widgets/controls",
            "children": [
              "IPY_MODEL_ea897ffdbff44024b294c86b9e1558f6",
              "IPY_MODEL_64a75129b9d04579a3560021a7f7f503"
            ]
          }
        },
        "d9ba08544e744b22b72ca217102d505e": {
          "model_module": "@jupyter-widgets/base",
          "model_name": "LayoutModel",
          "state": {
            "_view_name": "LayoutView",
            "grid_template_rows": null,
            "right": null,
            "justify_content": null,
            "_view_module": "@jupyter-widgets/base",
            "overflow": null,
            "_model_module_version": "1.2.0",
            "_view_count": null,
            "flex_flow": null,
            "width": null,
            "min_width": null,
            "border": null,
            "align_items": null,
            "bottom": null,
            "_model_module": "@jupyter-widgets/base",
            "top": null,
            "grid_column": null,
            "overflow_y": null,
            "overflow_x": null,
            "grid_auto_flow": null,
            "grid_area": null,
            "grid_template_columns": null,
            "flex": null,
            "_model_name": "LayoutModel",
            "justify_items": null,
            "grid_row": null,
            "max_height": null,
            "align_content": null,
            "visibility": null,
            "align_self": null,
            "height": null,
            "min_height": null,
            "padding": null,
            "grid_auto_rows": null,
            "grid_gap": null,
            "max_width": null,
            "order": null,
            "_view_module_version": "1.2.0",
            "grid_template_areas": null,
            "object_position": null,
            "object_fit": null,
            "grid_auto_columns": null,
            "margin": null,
            "display": null,
            "left": null
          }
        },
        "ea897ffdbff44024b294c86b9e1558f6": {
          "model_module": "@jupyter-widgets/controls",
          "model_name": "FloatProgressModel",
          "state": {
            "_view_name": "ProgressView",
            "style": "IPY_MODEL_bfffb37e4f0a4d068d14932c27ca4314",
            "_dom_classes": [],
            "description": "100%",
            "_model_name": "FloatProgressModel",
            "bar_style": "success",
            "max": 10,
            "_view_module": "@jupyter-widgets/controls",
            "_model_module_version": "1.5.0",
            "value": 10,
            "_view_count": null,
            "_view_module_version": "1.5.0",
            "orientation": "horizontal",
            "min": 0,
            "description_tooltip": null,
            "_model_module": "@jupyter-widgets/controls",
            "layout": "IPY_MODEL_13d1bcebd360448091f051d8440008b0"
          }
        },
        "64a75129b9d04579a3560021a7f7f503": {
          "model_module": "@jupyter-widgets/controls",
          "model_name": "HTMLModel",
          "state": {
            "_view_name": "HTMLView",
            "style": "IPY_MODEL_ce73d5de72e7439ea8a6458127884b99",
            "_dom_classes": [],
            "description": "",
            "_model_name": "HTMLModel",
            "placeholder": "​",
            "_view_module": "@jupyter-widgets/controls",
            "_model_module_version": "1.5.0",
            "value": " 10/10 [03:50&lt;00:00, 23.02s/it]",
            "_view_count": null,
            "_view_module_version": "1.5.0",
            "description_tooltip": null,
            "_model_module": "@jupyter-widgets/controls",
            "layout": "IPY_MODEL_a73c7287e10d45c083c715493c5a56c5"
          }
        },
        "bfffb37e4f0a4d068d14932c27ca4314": {
          "model_module": "@jupyter-widgets/controls",
          "model_name": "ProgressStyleModel",
          "state": {
            "_view_name": "StyleView",
            "_model_name": "ProgressStyleModel",
            "description_width": "initial",
            "_view_module": "@jupyter-widgets/base",
            "_model_module_version": "1.5.0",
            "_view_count": null,
            "_view_module_version": "1.2.0",
            "bar_color": null,
            "_model_module": "@jupyter-widgets/controls"
          }
        },
        "13d1bcebd360448091f051d8440008b0": {
          "model_module": "@jupyter-widgets/base",
          "model_name": "LayoutModel",
          "state": {
            "_view_name": "LayoutView",
            "grid_template_rows": null,
            "right": null,
            "justify_content": null,
            "_view_module": "@jupyter-widgets/base",
            "overflow": null,
            "_model_module_version": "1.2.0",
            "_view_count": null,
            "flex_flow": null,
            "width": null,
            "min_width": null,
            "border": null,
            "align_items": null,
            "bottom": null,
            "_model_module": "@jupyter-widgets/base",
            "top": null,
            "grid_column": null,
            "overflow_y": null,
            "overflow_x": null,
            "grid_auto_flow": null,
            "grid_area": null,
            "grid_template_columns": null,
            "flex": null,
            "_model_name": "LayoutModel",
            "justify_items": null,
            "grid_row": null,
            "max_height": null,
            "align_content": null,
            "visibility": null,
            "align_self": null,
            "height": null,
            "min_height": null,
            "padding": null,
            "grid_auto_rows": null,
            "grid_gap": null,
            "max_width": null,
            "order": null,
            "_view_module_version": "1.2.0",
            "grid_template_areas": null,
            "object_position": null,
            "object_fit": null,
            "grid_auto_columns": null,
            "margin": null,
            "display": null,
            "left": null
          }
        },
        "ce73d5de72e7439ea8a6458127884b99": {
          "model_module": "@jupyter-widgets/controls",
          "model_name": "DescriptionStyleModel",
          "state": {
            "_view_name": "StyleView",
            "_model_name": "DescriptionStyleModel",
            "description_width": "",
            "_view_module": "@jupyter-widgets/base",
            "_model_module_version": "1.5.0",
            "_view_count": null,
            "_view_module_version": "1.2.0",
            "_model_module": "@jupyter-widgets/controls"
          }
        },
        "a73c7287e10d45c083c715493c5a56c5": {
          "model_module": "@jupyter-widgets/base",
          "model_name": "LayoutModel",
          "state": {
            "_view_name": "LayoutView",
            "grid_template_rows": null,
            "right": null,
            "justify_content": null,
            "_view_module": "@jupyter-widgets/base",
            "overflow": null,
            "_model_module_version": "1.2.0",
            "_view_count": null,
            "flex_flow": null,
            "width": null,
            "min_width": null,
            "border": null,
            "align_items": null,
            "bottom": null,
            "_model_module": "@jupyter-widgets/base",
            "top": null,
            "grid_column": null,
            "overflow_y": null,
            "overflow_x": null,
            "grid_auto_flow": null,
            "grid_area": null,
            "grid_template_columns": null,
            "flex": null,
            "_model_name": "LayoutModel",
            "justify_items": null,
            "grid_row": null,
            "max_height": null,
            "align_content": null,
            "visibility": null,
            "align_self": null,
            "height": null,
            "min_height": null,
            "padding": null,
            "grid_auto_rows": null,
            "grid_gap": null,
            "max_width": null,
            "order": null,
            "_view_module_version": "1.2.0",
            "grid_template_areas": null,
            "object_position": null,
            "object_fit": null,
            "grid_auto_columns": null,
            "margin": null,
            "display": null,
            "left": null
          }
        }
      }
    }
  },
  "cells": [
    {
      "cell_type": "code",
      "metadata": {
        "id": "lFbLj-LQJum2",
        "colab_type": "code",
        "colab": {
          "base_uri": "https://localhost:8080/",
          "height": 170
        },
        "outputId": "a4cb2d7c-0d27-4cf9-a7e9-b3d0e4eb79df"
      },
      "source": [
        "%pip install bloom_filter\n",
        "%pip install tensorflow_hub"
      ],
      "execution_count": 1,
      "outputs": [
        {
          "output_type": "stream",
          "text": [
            "Collecting bloom_filter\n",
            "  Downloading https://files.pythonhosted.org/packages/6f/85/c26819421801c5a04a2743e329641dde22225a55153d5477c032b4f7d40e/bloom_filter-1.3-py3-none-any.whl\n",
            "Installing collected packages: bloom-filter\n",
            "Successfully installed bloom-filter-1.3\n",
            "Requirement already satisfied: tensorflow_hub in /usr/local/lib/python3.6/dist-packages (0.8.0)\n",
            "Requirement already satisfied: numpy>=1.12.0 in /usr/local/lib/python3.6/dist-packages (from tensorflow_hub) (1.18.5)\n",
            "Requirement already satisfied: six>=1.12.0 in /usr/local/lib/python3.6/dist-packages (from tensorflow_hub) (1.12.0)\n",
            "Requirement already satisfied: protobuf>=3.8.0 in /usr/local/lib/python3.6/dist-packages (from tensorflow_hub) (3.12.2)\n",
            "Requirement already satisfied: setuptools in /usr/local/lib/python3.6/dist-packages (from protobuf>=3.8.0->tensorflow_hub) (49.1.0)\n"
          ],
          "name": "stdout"
        }
      ]
    },
    {
      "cell_type": "markdown",
      "metadata": {
        "id": "ji4Kk96LjM5U",
        "colab_type": "text"
      },
      "source": [
        "#### Let us import all the modules required"
      ]
    },
    {
      "cell_type": "code",
      "metadata": {
        "id": "Cow0JNR3_P5a",
        "colab_type": "code",
        "colab": {
          "base_uri": "https://localhost:8080/",
          "height": 34
        },
        "outputId": "51f8616d-e80a-46bc-c2d0-772748c33951"
      },
      "source": [
        "from bloom_filter import BloomFilter\n",
        "import tensorflow as tf \n",
        "import tensorflow_hub as hub\n",
        "import numpy as np\n",
        "import os\n",
        "from tqdm.notebook import tqdm\n",
        "from sklearn.metrics import classification_report,accuracy_score\n",
        "import pandas as pd\n",
        "from keras.preprocessing.text import Tokenizer\n",
        "from keras.preprocessing.sequence import pad_sequences\n",
        "from sklearn.model_selection import train_test_split\n",
        "from keras.layers import Input, Embedding, Activation, Flatten, Dense\n",
        "from keras.layers import Conv1D, MaxPooling1D, Dropout\n",
        "from keras.models import Model\n",
        "from copy import deepcopy\n",
        "from keras.utils import to_categorical\n",
        "import plotly.graph_objects as go\n",
        "import matplotlib.pyplot as plt\n",
        "os.environ['TF_CPP_MIN_LOG_LEVEL'] = '2'"
      ],
      "execution_count": 2,
      "outputs": [
        {
          "output_type": "stream",
          "text": [
            "Using TensorFlow backend.\n"
          ],
          "name": "stderr"
        }
      ]
    },
    {
      "cell_type": "markdown",
      "metadata": {
        "id": "jHjdM2kVjKNW",
        "colab_type": "text"
      },
      "source": [
        "####Now let us clean the data and make the dataset such that we have equal number of good and malicious URLs"
      ]
    },
    {
      "cell_type": "code",
      "metadata": {
        "id": "oJHxZWwi_TsT",
        "colab_type": "code",
        "colab": {}
      },
      "source": [
        "def gen_data():\n",
        "    fs = open(\"../dataset/test_input.txt\", \"r\",encoding='utf-8')\n",
        "    X = []\n",
        "    y = []\n",
        "    c1 = 0\n",
        "    c2 = 0\n",
        "    for i, line in enumerate(fs.readlines()[1:]):\n",
        "        url = line[:-5]\n",
        "        label = line[-5:-1]\n",
        "        url.strip(',')\n",
        "        url.strip(\"\")\n",
        "        if ((c1==30000) and (c2==30000)):\n",
        "          break\n",
        "        if label==\",bad\":\n",
        "          if c1<30000:\n",
        "            c1+=1\n",
        "            X.append(url)\n",
        "            y.append(0)\n",
        "        else:\n",
        "          if c2<30000:\n",
        "            c2+=1\n",
        "            X.append(url)\n",
        "            y.append(1)\n",
        "    data = []\n",
        "    for i in range(len(X)):\n",
        "        data.append([X[i], y[i]])\n",
        "    return data"
      ],
      "execution_count": 6,
      "outputs": []
    },
    {
      "cell_type": "markdown",
      "metadata": {
        "id": "1z5V7OlbkGb9",
        "colab_type": "text"
      },
      "source": [
        "####Now let us split the data into features and labels for training and testing"
      ]
    },
    {
      "cell_type": "code",
      "metadata": {
        "id": "OnD2rhtr_H6G",
        "colab_type": "code",
        "colab": {}
      },
      "source": [
        "data = gen_data()\n",
        "train_features = np.array([str(i[0]) for i in data])\n",
        "train_labels = np.array([i[1] for i in data])"
      ],
      "execution_count": 7,
      "outputs": []
    },
    {
      "cell_type": "markdown",
      "metadata": {
        "id": "Jn91V5P5mUl3",
        "colab_type": "text"
      },
      "source": [
        "####Here we build the model and train the model on our dataset"
      ]
    },
    {
      "cell_type": "code",
      "metadata": {
        "id": "qt5mMxZjddVQ",
        "colab_type": "code",
        "colab": {
          "base_uri": "https://localhost:8080/",
          "height": 663
        },
        "outputId": "bfb0168c-d5b0-4ed2-bf0e-a1bb19003857"
      },
      "source": [
        "tk = Tokenizer(num_words=None, char_level=True, oov_token='UNK') \n",
        "input_size = 1014\n",
        "\n",
        "embedding_size = 69\n",
        "conv_layers = [[256, 7, 3],\n",
        "              [256, 7, 3],\n",
        "              [256, 3, -1],\n",
        "              [256, 3, -1],\n",
        "              [256, 3, -1],\n",
        "              [256, 3, 3]]\n",
        "\n",
        "fully_connected_layers = [64, 4]\n",
        "num_of_classes = 2\n",
        "dropout_p = 0.1\n",
        "optimizer = 'adam'\n",
        "loss = 'categorical_crossentropy'\n",
        "embedding_weights = []\n",
        "data1 = deepcopy(data)\n",
        "data1 = np.array(data1)\n",
        "train_texts = data1[:,0]\n",
        "y_train = data1[:,1]\n",
        "train_texts = [s.lower() for s in train_texts]\n",
        "tk.fit_on_texts(train_texts)\n",
        "alphabet = \"abcdefghijklmnopqrstuvwxyz0123456789,;.!?:'\\\"/\\\\|_@#$%^&*~`+-=<>()[]{}\"\n",
        "char_dict = {}\n",
        "for i, char in enumerate(alphabet):\n",
        "  char_dict[char] = i + 1\n",
        "tk.word_index = char_dict.copy()\n",
        "tk.word_index[tk.oov_token] = max(char_dict.values()) + 1\n",
        "train_texts = tk.texts_to_sequences(train_texts)\n",
        "\n",
        "# Padding\n",
        "train_data = pad_sequences(train_texts, maxlen=1014, padding='post')\n",
        "\n",
        "# Convert to numpy array\n",
        "train_data = np.array(train_data, dtype='float32')\n",
        "# test_data = np.array(test_data, dtype='float32')\n",
        "\n",
        "# =======================Get classes================\n",
        "# train_y = train_df[0].values\n",
        "train_class_list = [x  for x in y_train]\n",
        "\n",
        "train_classes = to_categorical(train_class_list)\n",
        "# test_classes = to_categorical(test_class_list)\n",
        "# tk = Tokenizer(num_words=None, char_level=True, oov_token='UNK') \n",
        "\n",
        "# =====================Char CNN=======================\n",
        "# parameter\n",
        "\n",
        "\n",
        "# Embedding weights\n",
        "  # (70, 69)\n",
        "vocab_size = len(tk.word_index)\n",
        "embedding_weights.append(np.zeros(vocab_size))  # (0, 69)\n",
        "\n",
        "for char, i in tk.word_index.items():  # from index 1 to 69\n",
        "    onehot = np.zeros(vocab_size)\n",
        "    onehot[i-1] = 1\n",
        "    embedding_weights.append(onehot)\n",
        "\n",
        "embedding_weights = np.array(embedding_weights)\n",
        "print('Load')\n",
        "\n",
        "# Embedding layer Initialization\n",
        "embedding_layer = Embedding(vocab_size + 1,\n",
        "                            embedding_size,\n",
        "                            input_length=input_size,\n",
        "                            weights=[embedding_weights])\n",
        "inputs = Input(shape=(input_size,), name='input', dtype='int64')  # shape=(?, 1014)\n",
        "# Embedding\n",
        "x = embedding_layer(inputs)\n",
        "# Conv\n",
        "# for filter_num, filter_size, pooling_size in conv_layers:\n",
        "x = Conv1D(64, 4)(x)\n",
        "x = Activation('relu')(x)\n",
        "# if pooling_size != -1:\n",
        "x = MaxPooling1D(pool_size=2)(x)  # Final shape=(None, 34, 256)\n",
        "x = Flatten()(x)  # (None, 8704)\n",
        "# Fully connected layers\n",
        "for dense_size in fully_connected_layers:\n",
        "    x = Dense(dense_size, activation='relu')(x)  # dense_size == 1024\n",
        "    x = Dropout(dropout_p)(x)\n",
        "# Output Layer\n",
        "predictions = Dense(num_of_classes, activation='softmax')(x)\n",
        "# Build model\n",
        "model = Model(inputs=inputs, outputs=predictions)\n",
        "model.compile(optimizer=optimizer, loss=loss, metrics=['accuracy'])  # Adam, categorical_crossentropy\n",
        "model.summary()\n",
        "\n",
        "model.fit(train_data, train_classes,\n",
        "          batch_size=256,\n",
        "          epochs=1,\n",
        "          verbose=2)"
      ],
      "execution_count": 26,
      "outputs": [
        {
          "output_type": "stream",
          "text": [
            "Load\n",
            "Model: \"model_4\"\n",
            "_________________________________________________________________\n",
            "Layer (type)                 Output Shape              Param #   \n",
            "=================================================================\n",
            "input (InputLayer)           (None, 1014)              0         \n",
            "_________________________________________________________________\n",
            "embedding_4 (Embedding)      (None, 1014, 69)          4830      \n",
            "_________________________________________________________________\n",
            "conv1d_4 (Conv1D)            (None, 1011, 64)          17728     \n",
            "_________________________________________________________________\n",
            "activation_4 (Activation)    (None, 1011, 64)          0         \n",
            "_________________________________________________________________\n",
            "max_pooling1d_4 (MaxPooling1 (None, 505, 64)           0         \n",
            "_________________________________________________________________\n",
            "flatten_4 (Flatten)          (None, 32320)             0         \n",
            "_________________________________________________________________\n",
            "dense_10 (Dense)             (None, 64)                2068544   \n",
            "_________________________________________________________________\n",
            "dropout_7 (Dropout)          (None, 64)                0         \n",
            "_________________________________________________________________\n",
            "dense_11 (Dense)             (None, 4)                 260       \n",
            "_________________________________________________________________\n",
            "dropout_8 (Dropout)          (None, 4)                 0         \n",
            "_________________________________________________________________\n",
            "dense_12 (Dense)             (None, 2)                 10        \n",
            "=================================================================\n",
            "Total params: 2,091,372\n",
            "Trainable params: 2,091,372\n",
            "Non-trainable params: 0\n",
            "_________________________________________________________________\n"
          ],
          "name": "stdout"
        },
        {
          "output_type": "stream",
          "text": [
            "/usr/local/lib/python3.6/dist-packages/tensorflow/python/framework/indexed_slices.py:434: UserWarning:\n",
            "\n",
            "Converting sparse IndexedSlices to a dense Tensor of unknown shape. This may consume a large amount of memory.\n",
            "\n"
          ],
          "name": "stderr"
        },
        {
          "output_type": "stream",
          "text": [
            "Epoch 1/1\n",
            " - 7s - loss: 0.1471 - accuracy: 0.9467\n"
          ],
          "name": "stdout"
        },
        {
          "output_type": "execute_result",
          "data": {
            "text/plain": [
              "<keras.callbacks.callbacks.History at 0x7fa9b1aaa908>"
            ]
          },
          "metadata": {
            "tags": []
          },
          "execution_count": 26
        }
      ]
    },
    {
      "cell_type": "markdown",
      "metadata": {
        "id": "mtwSvNzSmlIp",
        "colab_type": "text"
      },
      "source": [
        "####This is a function to test our model"
      ]
    },
    {
      "cell_type": "code",
      "metadata": {
        "id": "cRbF2RDyd4Cs",
        "colab_type": "code",
        "colab": {}
      },
      "source": [
        "def test_model(test_texts):\n",
        "  test_texts = [s.lower() for s in test_texts]\n",
        "  test_texts = tk.texts_to_sequences(test_texts)\n",
        "  test_data = pad_sequences(test_texts, maxlen=1014, padding='post')\n",
        "  test_data = np.array(test_data, dtype='float32')\n",
        "  y =  model.predict(test_data)\n",
        "  ans =[]\n",
        "  for f in y:\n",
        "      ans.append(f[1])\n",
        "  return ans"
      ],
      "execution_count": 27,
      "outputs": []
    },
    {
      "cell_type": "markdown",
      "metadata": {
        "id": "-JLEy7CIm09r",
        "colab_type": "text"
      },
      "source": [
        "####This is a function to add elements to the backup bloom filter after passing the data through classifier and it returns the backup bloom filter.\n"
      ]
    },
    {
      "cell_type": "code",
      "metadata": {
        "id": "31naueytnFxN",
        "colab_type": "code",
        "colab": {}
      },
      "source": [
        "  def Train_Bloom2(bloom,train_features, train_labels ,tau):\n",
        "      # gen_data()\n",
        "      X_train=train_features\n",
        "      y_train=train_labels\n",
        "      # model.fit(X_train, y_train, epochs=2, batch_size=256,verbose=1)\n",
        "      preds=test_model(X_train)\n",
        "      for i in range(len(preds)):\n",
        "          if preds[i]<tau:\n",
        "              if y_train[i]==1:\n",
        "                  bloom.add(str(X_train[i]))\n",
        "      return bloom"
      ],
      "execution_count": 28,
      "outputs": []
    },
    {
      "cell_type": "markdown",
      "metadata": {
        "id": "BQs77XaQoJ06",
        "colab_type": "text"
      },
      "source": [
        "####This is a function to test the Sandwich Learned Bloom Filter"
      ]
    },
    {
      "cell_type": "code",
      "metadata": {
        "id": "DNaDs67moI-r",
        "colab_type": "code",
        "colab": {}
      },
      "source": [
        "  def Test_SLBF(model,bloom1,bloom2,data,tau,prediction):\n",
        "      output1=[]\n",
        "      for i in range(len(data)):\n",
        "          #Bloom1\n",
        "          if str(data[i]) not in bloom1:\n",
        "              output1.append(0)\n",
        "              continue\n",
        "          #Model\n",
        "          if prediction[i]>tau:\n",
        "              output1.append(1)\n",
        "          elif str(data[i]) in bloom2:\n",
        "              output1.append(1)\n",
        "          else:\n",
        "              output1.append(0)\n",
        "      return np.array(output1)\n"
      ],
      "execution_count": 29,
      "outputs": []
    },
    {
      "cell_type": "markdown",
      "metadata": {
        "id": "1dv6iUY6o5hZ",
        "colab_type": "text"
      },
      "source": [
        "####This is a function to test the Normal Learned Bloom Filter"
      ]
    },
    {
      "cell_type": "code",
      "metadata": {
        "id": "gCRAJxkwoqz2",
        "colab_type": "code",
        "colab": {}
      },
      "source": [
        " def Test_NLBF(model,bloom2,data,tau,prediction):\n",
        "      output1=[]\n",
        "      for i in range(len(data)):\n",
        "          #Bloom1\n",
        "          if prediction[i]>tau:\n",
        "              output1.append(1)\n",
        "          elif str(data[i]) in bloom2:\n",
        "              output1.append(1)\n",
        "          else:\n",
        "              output1.append(0)\n",
        "      return np.array(output1)"
      ],
      "execution_count": 30,
      "outputs": []
    },
    {
      "cell_type": "markdown",
      "metadata": {
        "id": "XiKbHmmKpHY7",
        "colab_type": "text"
      },
      "source": [
        "####This is a function to test the regular Bloom Filter"
      ]
    },
    {
      "cell_type": "code",
      "metadata": {
        "id": "sh-zUca0pQMB",
        "colab_type": "code",
        "colab": {}
      },
      "source": [
        "def Test_BF(bloom1, test_data):\n",
        "  y_pred_bloom = []\n",
        "  for i in test_data:\n",
        "    if str(i) in bloom1:\n",
        "      y_pred_bloom.append(1)\n",
        "    else:\n",
        "      y_pred_bloom.append(0)\n",
        "  y_pred_bloom = np.array(y_pred_bloom)\n",
        "  return y_pred_bloom"
      ],
      "execution_count": 31,
      "outputs": []
    },
    {
      "cell_type": "markdown",
      "metadata": {
        "id": "SgBeNofvoHab",
        "colab_type": "text"
      },
      "source": [
        "####Now we test all the implemented filters and gather their accuracies for comparision"
      ]
    },
    {
      "cell_type": "code",
      "metadata": {
        "id": "sVPk0A0cUPhR",
        "colab_type": "code",
        "colab": {
          "base_uri": "https://localhost:8080/",
          "height": 66,
          "referenced_widgets": [
            "7e3096a2230f41b38ad0c569f4823e14",
            "d9ba08544e744b22b72ca217102d505e",
            "ea897ffdbff44024b294c86b9e1558f6",
            "64a75129b9d04579a3560021a7f7f503",
            "bfffb37e4f0a4d068d14932c27ca4314",
            "13d1bcebd360448091f051d8440008b0",
            "ce73d5de72e7439ea8a6458127884b99",
            "a73c7287e10d45c083c715493c5a56c5"
          ]
        },
        "outputId": "5dbbf0f8-d900-4ce6-edcc-83f5d744fcc7"
      },
      "source": [
        "error_rates = [0.01*i for i in range(1,11)]\n",
        "tau = 0.9\n",
        "accuracies = []\n",
        "for er in tqdm(range(len(error_rates))):\n",
        "  classifier_data = []\n",
        "  bloom1 = BloomFilter(max_elements=25000, error_rate=error_rates[er])\n",
        "  bloom2 = BloomFilter(max_elements=25000, error_rate=error_rates[er])\n",
        "\n",
        "  for data_point in data:\n",
        "      if data_point[1]==1:\n",
        "          bloom1.add(data_point[0])\n",
        "          \n",
        "  for data_point in data:\n",
        "      if data_point[0] in bloom1:\n",
        "          classifier_data.append(data_point)\n",
        "\n",
        "  bloom2=Train_Bloom2(bloom2,train_features, train_labels,tau)\n",
        "  test_data = data.copy()\n",
        "  y = np.array([i[1] for i in test_data])\n",
        "  test_data = np.array([test_data[i][0] for i in range(len(test_data))])\n",
        "  prediction = test_model(test_data)\n",
        "  # The model is tested on the entire dataset and its prediction is stored for further use\n",
        "  y_pred_sandwich = Test_SLBF(model,bloom1,bloom2,test_data,tau,prediction)\n",
        "  y_pred_normal= Test_NLBF(model,bloom2,test_data,tau,prediction)\n",
        "  y_pred_bloom = Test_BF(bloom1,test_data)\n",
        "  accuracies.append([accuracy_score(y,y_pred_sandwich),accuracy_score(y, y_pred_normal), accuracy_score(y,y_pred_bloom)])"
      ],
      "execution_count": 32,
      "outputs": [
        {
          "output_type": "display_data",
          "data": {
            "application/vnd.jupyter.widget-view+json": {
              "model_id": "7e3096a2230f41b38ad0c569f4823e14",
              "version_minor": 0,
              "version_major": 2
            },
            "text/plain": [
              "HBox(children=(FloatProgress(value=0.0, max=10.0), HTML(value='')))"
            ]
          },
          "metadata": {
            "tags": []
          }
        },
        {
          "output_type": "stream",
          "text": [
            "\n"
          ],
          "name": "stdout"
        }
      ]
    },
    {
      "cell_type": "markdown",
      "metadata": {
        "id": "5n4mTFmsq3Qc",
        "colab_type": "text"
      },
      "source": [
        "####Now let us plot the accuracies of all the filters with variying error rates"
      ]
    },
    {
      "cell_type": "code",
      "metadata": {
        "id": "Z9a3hahVwkL4",
        "colab_type": "code",
        "colab": {
          "base_uri": "https://localhost:8080/",
          "height": 774
        },
        "outputId": "f4564426-cf39-4512-9dd3-d3a287375d02"
      },
      "source": [
        "print(accuracies)\n",
        "sandwich = []\n",
        "normal = []\n",
        "bloom = []\n",
        "for i in range(len(error_rates)):\n",
        "  sandwich.append(100*accuracies[i][0])\n",
        "  normal.append(100*accuracies[i][1])\n",
        "  bloom.append(100*accuracies[i][2])\n",
        "t = error_rates\n",
        "fig = go.Figure()\n",
        "# Add traces\n",
        "fig.add_trace(go.Scatter(x=t, y=sandwich,\n",
        "                    mode='lines',\n",
        "                    name='sandwich'))\n",
        "fig.add_trace(go.Scatter(x=t, y=normal,\n",
        "                    mode='lines',\n",
        "                    name='regular'))\n",
        "fig.add_trace(go.Scatter(x=t, y=bloom,\n",
        "                    mode='lines',\n",
        "                    name='bloom'))\n",
        "\n",
        "fig.update_layout(\n",
        "    title=\"Comparision of Learned Bloom Filters\",\n",
        "    xaxis_title=\"Error Rate of Bloom\",\n",
        "    yaxis_title=\"Accuracy\",\n",
        "    height = 720,\n",
        "    width = 1280\n",
        ")\n",
        "fig.show()"
      ],
      "execution_count": 33,
      "outputs": [
        {
          "output_type": "stream",
          "text": [
            "[[1.0, 0.9996166666666667, 0.9887666666666667], [0.9999833333333333, 0.9996166666666667, 0.9794333333333334], [1.0, 0.9996166666666667, 0.96785], [0.99995, 0.9996166666666667, 0.9642], [0.9999666666666667, 0.9996166666666667, 0.9555833333333333], [0.9999666666666667, 0.9996166666666667, 0.9438833333333333], [0.9999833333333333, 0.9996166666666667, 0.9427666666666666], [0.9999666666666667, 0.9996166666666667, 0.9346833333333333], [0.9999833333333333, 0.9996166666666667, 0.9305333333333333], [0.9999833333333333, 0.9996166666666667, 0.9204666666666667]]\n"
          ],
          "name": "stdout"
        },
        {
          "output_type": "display_data",
          "data": {
            "text/html": [
              "<html>\n",
              "<head><meta charset=\"utf-8\" /></head>\n",
              "<body>\n",
              "    <div>\n",
              "            <script src=\"https://cdnjs.cloudflare.com/ajax/libs/mathjax/2.7.5/MathJax.js?config=TeX-AMS-MML_SVG\"></script><script type=\"text/javascript\">if (window.MathJax) {MathJax.Hub.Config({SVG: {font: \"STIX-Web\"}});}</script>\n",
              "                <script type=\"text/javascript\">window.PlotlyConfig = {MathJaxConfig: 'local'};</script>\n",
              "        <script src=\"https://cdn.plot.ly/plotly-latest.min.js\"></script>    \n",
              "            <div id=\"0860985c-8a5d-4c9c-be6f-1309eb3a5685\" class=\"plotly-graph-div\" style=\"height:720px; width:1280px;\"></div>\n",
              "            <script type=\"text/javascript\">\n",
              "                \n",
              "                    window.PLOTLYENV=window.PLOTLYENV || {};\n",
              "                    \n",
              "                if (document.getElementById(\"0860985c-8a5d-4c9c-be6f-1309eb3a5685\")) {\n",
              "                    Plotly.newPlot(\n",
              "                        '0860985c-8a5d-4c9c-be6f-1309eb3a5685',\n",
              "                        [{\"mode\": \"lines\", \"name\": \"sandwich\", \"type\": \"scatter\", \"x\": [0.01, 0.02, 0.03, 0.04, 0.05, 0.06, 0.07, 0.08, 0.09, 0.1], \"y\": [100.0, 99.99833333333333, 100.0, 99.995, 99.99666666666667, 99.99666666666667, 99.99833333333333, 99.99666666666667, 99.99833333333333, 99.99833333333333]}, {\"mode\": \"lines\", \"name\": \"regular\", \"type\": \"scatter\", \"x\": [0.01, 0.02, 0.03, 0.04, 0.05, 0.06, 0.07, 0.08, 0.09, 0.1], \"y\": [99.96166666666667, 99.96166666666667, 99.96166666666667, 99.96166666666667, 99.96166666666667, 99.96166666666667, 99.96166666666667, 99.96166666666667, 99.96166666666667, 99.96166666666667]}, {\"mode\": \"lines\", \"name\": \"bloom\", \"type\": \"scatter\", \"x\": [0.01, 0.02, 0.03, 0.04, 0.05, 0.06, 0.07, 0.08, 0.09, 0.1], \"y\": [98.87666666666667, 97.94333333333334, 96.785, 96.41999999999999, 95.55833333333334, 94.38833333333334, 94.27666666666667, 93.46833333333333, 93.05333333333333, 92.04666666666667]}],\n",
              "                        {\"height\": 720, \"template\": {\"data\": {\"bar\": [{\"error_x\": {\"color\": \"#2a3f5f\"}, \"error_y\": {\"color\": \"#2a3f5f\"}, \"marker\": {\"line\": {\"color\": \"#E5ECF6\", \"width\": 0.5}}, \"type\": \"bar\"}], \"barpolar\": [{\"marker\": {\"line\": {\"color\": \"#E5ECF6\", \"width\": 0.5}}, \"type\": \"barpolar\"}], \"carpet\": [{\"aaxis\": {\"endlinecolor\": \"#2a3f5f\", \"gridcolor\": \"white\", \"linecolor\": \"white\", \"minorgridcolor\": \"white\", \"startlinecolor\": \"#2a3f5f\"}, \"baxis\": {\"endlinecolor\": \"#2a3f5f\", \"gridcolor\": \"white\", \"linecolor\": \"white\", \"minorgridcolor\": \"white\", \"startlinecolor\": \"#2a3f5f\"}, \"type\": \"carpet\"}], \"choropleth\": [{\"colorbar\": {\"outlinewidth\": 0, \"ticks\": \"\"}, \"type\": \"choropleth\"}], \"contour\": [{\"colorbar\": {\"outlinewidth\": 0, \"ticks\": \"\"}, \"colorscale\": [[0.0, \"#0d0887\"], [0.1111111111111111, \"#46039f\"], [0.2222222222222222, \"#7201a8\"], [0.3333333333333333, \"#9c179e\"], [0.4444444444444444, \"#bd3786\"], [0.5555555555555556, \"#d8576b\"], [0.6666666666666666, \"#ed7953\"], [0.7777777777777778, \"#fb9f3a\"], [0.8888888888888888, \"#fdca26\"], [1.0, \"#f0f921\"]], \"type\": \"contour\"}], \"contourcarpet\": [{\"colorbar\": {\"outlinewidth\": 0, \"ticks\": \"\"}, \"type\": \"contourcarpet\"}], \"heatmap\": [{\"colorbar\": {\"outlinewidth\": 0, \"ticks\": \"\"}, \"colorscale\": [[0.0, \"#0d0887\"], [0.1111111111111111, \"#46039f\"], [0.2222222222222222, \"#7201a8\"], [0.3333333333333333, \"#9c179e\"], [0.4444444444444444, \"#bd3786\"], [0.5555555555555556, \"#d8576b\"], [0.6666666666666666, \"#ed7953\"], [0.7777777777777778, \"#fb9f3a\"], [0.8888888888888888, \"#fdca26\"], [1.0, \"#f0f921\"]], \"type\": \"heatmap\"}], \"heatmapgl\": [{\"colorbar\": {\"outlinewidth\": 0, \"ticks\": \"\"}, \"colorscale\": [[0.0, \"#0d0887\"], [0.1111111111111111, \"#46039f\"], [0.2222222222222222, \"#7201a8\"], [0.3333333333333333, \"#9c179e\"], [0.4444444444444444, \"#bd3786\"], [0.5555555555555556, \"#d8576b\"], [0.6666666666666666, \"#ed7953\"], [0.7777777777777778, \"#fb9f3a\"], [0.8888888888888888, \"#fdca26\"], [1.0, \"#f0f921\"]], \"type\": \"heatmapgl\"}], \"histogram\": [{\"marker\": {\"colorbar\": {\"outlinewidth\": 0, \"ticks\": \"\"}}, \"type\": \"histogram\"}], \"histogram2d\": [{\"colorbar\": {\"outlinewidth\": 0, \"ticks\": \"\"}, \"colorscale\": [[0.0, \"#0d0887\"], [0.1111111111111111, \"#46039f\"], [0.2222222222222222, \"#7201a8\"], [0.3333333333333333, \"#9c179e\"], [0.4444444444444444, \"#bd3786\"], [0.5555555555555556, \"#d8576b\"], [0.6666666666666666, \"#ed7953\"], [0.7777777777777778, \"#fb9f3a\"], [0.8888888888888888, \"#fdca26\"], [1.0, \"#f0f921\"]], \"type\": \"histogram2d\"}], \"histogram2dcontour\": [{\"colorbar\": {\"outlinewidth\": 0, \"ticks\": \"\"}, \"colorscale\": [[0.0, \"#0d0887\"], [0.1111111111111111, \"#46039f\"], [0.2222222222222222, \"#7201a8\"], [0.3333333333333333, \"#9c179e\"], [0.4444444444444444, \"#bd3786\"], [0.5555555555555556, \"#d8576b\"], [0.6666666666666666, \"#ed7953\"], [0.7777777777777778, \"#fb9f3a\"], [0.8888888888888888, \"#fdca26\"], [1.0, \"#f0f921\"]], \"type\": \"histogram2dcontour\"}], \"mesh3d\": [{\"colorbar\": {\"outlinewidth\": 0, \"ticks\": \"\"}, \"type\": \"mesh3d\"}], \"parcoords\": [{\"line\": {\"colorbar\": {\"outlinewidth\": 0, \"ticks\": \"\"}}, \"type\": \"parcoords\"}], \"pie\": [{\"automargin\": true, \"type\": \"pie\"}], \"scatter\": [{\"marker\": {\"colorbar\": {\"outlinewidth\": 0, \"ticks\": \"\"}}, \"type\": \"scatter\"}], \"scatter3d\": [{\"line\": {\"colorbar\": {\"outlinewidth\": 0, \"ticks\": \"\"}}, \"marker\": {\"colorbar\": {\"outlinewidth\": 0, \"ticks\": \"\"}}, \"type\": \"scatter3d\"}], \"scattercarpet\": [{\"marker\": {\"colorbar\": {\"outlinewidth\": 0, \"ticks\": \"\"}}, \"type\": \"scattercarpet\"}], \"scattergeo\": [{\"marker\": {\"colorbar\": {\"outlinewidth\": 0, \"ticks\": \"\"}}, \"type\": \"scattergeo\"}], \"scattergl\": [{\"marker\": {\"colorbar\": {\"outlinewidth\": 0, \"ticks\": \"\"}}, \"type\": \"scattergl\"}], \"scattermapbox\": [{\"marker\": {\"colorbar\": {\"outlinewidth\": 0, \"ticks\": \"\"}}, \"type\": \"scattermapbox\"}], \"scatterpolar\": [{\"marker\": {\"colorbar\": {\"outlinewidth\": 0, \"ticks\": \"\"}}, \"type\": \"scatterpolar\"}], \"scatterpolargl\": [{\"marker\": {\"colorbar\": {\"outlinewidth\": 0, \"ticks\": \"\"}}, \"type\": \"scatterpolargl\"}], \"scatterternary\": [{\"marker\": {\"colorbar\": {\"outlinewidth\": 0, \"ticks\": \"\"}}, \"type\": \"scatterternary\"}], \"surface\": [{\"colorbar\": {\"outlinewidth\": 0, \"ticks\": \"\"}, \"colorscale\": [[0.0, \"#0d0887\"], [0.1111111111111111, \"#46039f\"], [0.2222222222222222, \"#7201a8\"], [0.3333333333333333, \"#9c179e\"], [0.4444444444444444, \"#bd3786\"], [0.5555555555555556, \"#d8576b\"], [0.6666666666666666, \"#ed7953\"], [0.7777777777777778, \"#fb9f3a\"], [0.8888888888888888, \"#fdca26\"], [1.0, \"#f0f921\"]], \"type\": \"surface\"}], \"table\": [{\"cells\": {\"fill\": {\"color\": \"#EBF0F8\"}, \"line\": {\"color\": \"white\"}}, \"header\": {\"fill\": {\"color\": \"#C8D4E3\"}, \"line\": {\"color\": \"white\"}}, \"type\": \"table\"}]}, \"layout\": {\"annotationdefaults\": {\"arrowcolor\": \"#2a3f5f\", \"arrowhead\": 0, \"arrowwidth\": 1}, \"coloraxis\": {\"colorbar\": {\"outlinewidth\": 0, \"ticks\": \"\"}}, \"colorscale\": {\"diverging\": [[0, \"#8e0152\"], [0.1, \"#c51b7d\"], [0.2, \"#de77ae\"], [0.3, \"#f1b6da\"], [0.4, \"#fde0ef\"], [0.5, \"#f7f7f7\"], [0.6, \"#e6f5d0\"], [0.7, \"#b8e186\"], [0.8, \"#7fbc41\"], [0.9, \"#4d9221\"], [1, \"#276419\"]], \"sequential\": [[0.0, \"#0d0887\"], [0.1111111111111111, \"#46039f\"], [0.2222222222222222, \"#7201a8\"], [0.3333333333333333, \"#9c179e\"], [0.4444444444444444, \"#bd3786\"], [0.5555555555555556, \"#d8576b\"], [0.6666666666666666, \"#ed7953\"], [0.7777777777777778, \"#fb9f3a\"], [0.8888888888888888, \"#fdca26\"], [1.0, \"#f0f921\"]], \"sequentialminus\": [[0.0, \"#0d0887\"], [0.1111111111111111, \"#46039f\"], [0.2222222222222222, \"#7201a8\"], [0.3333333333333333, \"#9c179e\"], [0.4444444444444444, \"#bd3786\"], [0.5555555555555556, \"#d8576b\"], [0.6666666666666666, \"#ed7953\"], [0.7777777777777778, \"#fb9f3a\"], [0.8888888888888888, \"#fdca26\"], [1.0, \"#f0f921\"]]}, \"colorway\": [\"#636efa\", \"#EF553B\", \"#00cc96\", \"#ab63fa\", \"#FFA15A\", \"#19d3f3\", \"#FF6692\", \"#B6E880\", \"#FF97FF\", \"#FECB52\"], \"font\": {\"color\": \"#2a3f5f\"}, \"geo\": {\"bgcolor\": \"white\", \"lakecolor\": \"white\", \"landcolor\": \"#E5ECF6\", \"showlakes\": true, \"showland\": true, \"subunitcolor\": \"white\"}, \"hoverlabel\": {\"align\": \"left\"}, \"hovermode\": \"closest\", \"mapbox\": {\"style\": \"light\"}, \"paper_bgcolor\": \"white\", \"plot_bgcolor\": \"#E5ECF6\", \"polar\": {\"angularaxis\": {\"gridcolor\": \"white\", \"linecolor\": \"white\", \"ticks\": \"\"}, \"bgcolor\": \"#E5ECF6\", \"radialaxis\": {\"gridcolor\": \"white\", \"linecolor\": \"white\", \"ticks\": \"\"}}, \"scene\": {\"xaxis\": {\"backgroundcolor\": \"#E5ECF6\", \"gridcolor\": \"white\", \"gridwidth\": 2, \"linecolor\": \"white\", \"showbackground\": true, \"ticks\": \"\", \"zerolinecolor\": \"white\"}, \"yaxis\": {\"backgroundcolor\": \"#E5ECF6\", \"gridcolor\": \"white\", \"gridwidth\": 2, \"linecolor\": \"white\", \"showbackground\": true, \"ticks\": \"\", \"zerolinecolor\": \"white\"}, \"zaxis\": {\"backgroundcolor\": \"#E5ECF6\", \"gridcolor\": \"white\", \"gridwidth\": 2, \"linecolor\": \"white\", \"showbackground\": true, \"ticks\": \"\", \"zerolinecolor\": \"white\"}}, \"shapedefaults\": {\"line\": {\"color\": \"#2a3f5f\"}}, \"ternary\": {\"aaxis\": {\"gridcolor\": \"white\", \"linecolor\": \"white\", \"ticks\": \"\"}, \"baxis\": {\"gridcolor\": \"white\", \"linecolor\": \"white\", \"ticks\": \"\"}, \"bgcolor\": \"#E5ECF6\", \"caxis\": {\"gridcolor\": \"white\", \"linecolor\": \"white\", \"ticks\": \"\"}}, \"title\": {\"x\": 0.05}, \"xaxis\": {\"automargin\": true, \"gridcolor\": \"white\", \"linecolor\": \"white\", \"ticks\": \"\", \"title\": {\"standoff\": 15}, \"zerolinecolor\": \"white\", \"zerolinewidth\": 2}, \"yaxis\": {\"automargin\": true, \"gridcolor\": \"white\", \"linecolor\": \"white\", \"ticks\": \"\", \"title\": {\"standoff\": 15}, \"zerolinecolor\": \"white\", \"zerolinewidth\": 2}}}, \"title\": {\"text\": \"Comparision of Learned Bloom Filters\"}, \"width\": 1280, \"xaxis\": {\"title\": {\"text\": \"Error Rate of Bloom\"}}, \"yaxis\": {\"title\": {\"text\": \"Accuracy\"}}},\n",
              "                        {\"responsive\": true}\n",
              "                    ).then(function(){\n",
              "                            \n",
              "var gd = document.getElementById('0860985c-8a5d-4c9c-be6f-1309eb3a5685');\n",
              "var x = new MutationObserver(function (mutations, observer) {{\n",
              "        var display = window.getComputedStyle(gd).display;\n",
              "        if (!display || display === 'none') {{\n",
              "            console.log([gd, 'removed!']);\n",
              "            Plotly.purge(gd);\n",
              "            observer.disconnect();\n",
              "        }}\n",
              "}});\n",
              "\n",
              "// Listen for the removal of the full notebook cells\n",
              "var notebookContainer = gd.closest('#notebook-container');\n",
              "if (notebookContainer) {{\n",
              "    x.observe(notebookContainer, {childList: true});\n",
              "}}\n",
              "\n",
              "// Listen for the clearing of the current output cell\n",
              "var outputEl = gd.closest('.output');\n",
              "if (outputEl) {{\n",
              "    x.observe(outputEl, {childList: true});\n",
              "}}\n",
              "\n",
              "                        })\n",
              "                };\n",
              "                \n",
              "            </script>\n",
              "        </div>\n",
              "</body>\n",
              "</html>"
            ]
          },
          "metadata": {
            "tags": []
          }
        }
      ]
    }
  ]
}